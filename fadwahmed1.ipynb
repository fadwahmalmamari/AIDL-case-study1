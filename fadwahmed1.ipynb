{
  "nbformat": 4,
  "nbformat_minor": 0,
  "metadata": {
    "colab": {
      "provenance": []
    },
    "kernelspec": {
      "name": "python3",
      "display_name": "Python 3"
    },
    "language_info": {
      "name": "python"
    }
  },
  "cells": [
    {
      "cell_type": "code",
      "execution_count": 1,
      "metadata": {
        "colab": {
          "base_uri": "https://localhost:8080/"
        },
        "id": "m-Y5K6Pz4W_K",
        "outputId": "210f7876-7cef-4b6b-853d-2c7bc11393f2"
      },
      "outputs": [
        {
          "output_type": "stream",
          "name": "stdout",
          "text": [
            "Mounted at /content/drive\n"
          ]
        }
      ],
      "source": [
        "from google.colab import drive\n",
        "drive.mount('/content/drive', force_remount=True)"
      ]
    },
    {
      "cell_type": "code",
      "source": [
        "train_dir = '/content/drive/MyDrive/train'\n",
        "test_dir = '/content/drive/MyDrive/test'"
      ],
      "metadata": {
        "id": "nEcSSN2449sk"
      },
      "execution_count": 2,
      "outputs": []
    },
    {
      "cell_type": "code",
      "source": [
        "import os\n",
        "print(len(os.listdir('/content/drive/MyDrive/train/pizza')))\n",
        "print(len(os.listdir('/content/drive/MyDrive/train/icecream')))\n",
        "print(len(os.listdir('/content/drive/MyDrive/test/pizza')))\n",
        "print(len(os.listdir('/content/drive/MyDrive/test/icecream')))"
      ],
      "metadata": {
        "colab": {
          "base_uri": "https://localhost:8080/"
        },
        "id": "m564GHgk5TWc",
        "outputId": "1ebc5515-51d7-4ad8-9fb4-19972a642a93"
      },
      "execution_count": 3,
      "outputs": [
        {
          "output_type": "stream",
          "name": "stdout",
          "text": [
            "327\n",
            "391\n",
            "47\n",
            "59\n"
          ]
        }
      ]
    },
    {
      "cell_type": "code",
      "source": [
        "import tensorflow as tf\n",
        "from tensorflow.keras.preprocessing.image import ImageDataGenerator\n",
        "\n",
        "# Create ImageDataGenerator for training set\n",
        "train_datagen = ImageDataGenerator(\n",
        "    rescale=1./255,\n",
        "    validation_split=0.2  # Split 20% of the images for validation\n",
        ")\n",
        "\n",
        "# Load and prepare training data\n",
        "train_data = train_datagen.flow_from_directory(\n",
        "    train_dir,\n",
        "    target_size=(256,256),\n",
        "    batch_size=32,\n",
        "    class_mode='binary',  # 'binary' for binary classification (cats vs. dogs)\n",
        "    subset='training'  # Specify 'training' for the training set\n",
        ")\n",
        "\n",
        "# Create ImageDataGenerator for validation set\n",
        "validation_datagen = ImageDataGenerator(\n",
        "    rescale=1./255,\n",
        "    validation_split=0.2  # Note: Using the same validation split as in the training set\n",
        ")\n",
        "# Load and prepare validation data\n",
        "validation_data = validation_datagen.flow_from_directory(\n",
        "    train_dir,\n",
        "    target_size=(256,256),\n",
        "    batch_size=32,\n",
        "    class_mode='binary',\n",
        "    subset='validation'  # Specify 'validation' for the validation set\n",
        ")"
      ],
      "metadata": {
        "colab": {
          "base_uri": "https://localhost:8080/"
        },
        "id": "Xi1olT4R5sA4",
        "outputId": "03030287-c69d-4c74-a2b7-188a6dc3ccfd"
      },
      "execution_count": 4,
      "outputs": [
        {
          "output_type": "stream",
          "name": "stdout",
          "text": [
            "Found 575 images belonging to 2 classes.\n",
            "Found 143 images belonging to 2 classes.\n"
          ]
        }
      ]
    },
    {
      "cell_type": "code",
      "source": [
        "from tensorflow import keras\n",
        "from keras import Sequential\n",
        "from keras.layers import Dense,Conv2D,MaxPooling2D,Flatten\n",
        "\n",
        "resnet_model = Sequential()    #ResNet50 is a pre-trained model\n",
        "pretrained_model = tf.keras.applications.ResNet50(include_top = False, #because i have my own image of a diff dimension\n",
        "                                                input_shape = (256,256,3),\n",
        "                                                pooling = 'max', classes = 2,\n",
        "                                                weights = 'imagenet')\n",
        "for layer in pretrained_model.layers:\n",
        "    layer.trainable = False  #all layers in the Resnet50 is not trainable; keep those weights; I am going to add my own i/p and other layers\n",
        "\n",
        "resnet_model.add(pretrained_model)\n",
        "resnet_model.add(Flatten())\n",
        "resnet_model.add(Dense(512, activation = 'relu'))\n",
        "resnet_model.add(Dense(1, activation = 'sigmoid'))"
      ],
      "metadata": {
        "id": "TaEbHC6U527f"
      },
      "execution_count": 6,
      "outputs": []
    },
    {
      "cell_type": "code",
      "source": [
        "resnet_model.summary()"
      ],
      "metadata": {
        "colab": {
          "base_uri": "https://localhost:8080/"
        },
        "id": "5F5ArwuW6BGS",
        "outputId": "57699690-0409-4ede-d279-9201b1f63183"
      },
      "execution_count": 7,
      "outputs": [
        {
          "output_type": "stream",
          "name": "stdout",
          "text": [
            "Model: \"sequential_1\"\n",
            "_________________________________________________________________\n",
            " Layer (type)                Output Shape              Param #   \n",
            "=================================================================\n",
            " resnet50 (Functional)       (None, 2048)              23587712  \n",
            "                                                                 \n",
            " flatten_1 (Flatten)         (None, 2048)              0         \n",
            "                                                                 \n",
            " dense_2 (Dense)             (None, 512)               1049088   \n",
            "                                                                 \n",
            " dense_3 (Dense)             (None, 1)                 513       \n",
            "                                                                 \n",
            "=================================================================\n",
            "Total params: 24637313 (93.98 MB)\n",
            "Trainable params: 1049601 (4.00 MB)\n",
            "Non-trainable params: 23587712 (89.98 MB)\n",
            "_________________________________________________________________\n"
          ]
        }
      ]
    },
    {
      "cell_type": "code",
      "source": [
        "from keras.optimizers import Adam\n",
        "resnet_model.compile(optimizer=Adam(learning_rate=0.001),loss='binary_crossentropy',metrics=['accuracy']) #binary_crossentropy - binary classification"
      ],
      "metadata": {
        "id": "7MOtaxg56DTP"
      },
      "execution_count": 8,
      "outputs": []
    },
    {
      "cell_type": "code",
      "source": [
        "history = resnet_model.fit(train_data, epochs=3, validation_data=validation_data)"
      ],
      "metadata": {
        "colab": {
          "base_uri": "https://localhost:8080/"
        },
        "id": "E8cBLGVn6JFz",
        "outputId": "351f5cb6-f06b-4de1-c0ed-0a3a9923d70c"
      },
      "execution_count": 9,
      "outputs": [
        {
          "output_type": "stream",
          "name": "stdout",
          "text": [
            "Epoch 1/3\n",
            "18/18 [==============================] - 227s 12s/step - loss: 3.2191 - accuracy: 0.5391 - val_loss: 1.0654 - val_accuracy: 0.5315\n",
            "Epoch 2/3\n",
            "18/18 [==============================] - 198s 11s/step - loss: 0.7379 - accuracy: 0.6939 - val_loss: 0.5970 - val_accuracy: 0.6993\n",
            "Epoch 3/3\n",
            "18/18 [==============================] - 198s 11s/step - loss: 0.5365 - accuracy: 0.7548 - val_loss: 0.5325 - val_accuracy: 0.7063\n"
          ]
        }
      ]
    },
    {
      "cell_type": "code",
      "source": [
        "import matplotlib.pyplot as plt\n",
        "\n",
        "plt.plot(history.history['accuracy'],color='red',label='train')\n",
        "plt.plot(history.history['val_accuracy'],color='blue',label='validation')\n",
        "plt.legend()\n",
        "plt.show()"
      ],
      "metadata": {
        "colab": {
          "base_uri": "https://localhost:8080/",
          "height": 430
        },
        "id": "ndrZt4sU8xOX",
        "outputId": "07636a16-51ce-443a-b19f-d3e49b12d87e"
      },
      "execution_count": 10,
      "outputs": [
        {
          "output_type": "display_data",
          "data": {
            "text/plain": [
              "<Figure size 640x480 with 1 Axes>"
            ],
            "image/png": "[encoded data removed]"
          },
          "metadata": {}
        }
      ]
    },
    {
      "cell_type": "code",
      "source": [
        "plt.plot(history.history['loss'],color='red',label='train')\n",
        "plt.plot(history.history['val_loss'],color='blue',label='validation')\n",
        "plt.legend()\n",
        "plt.show()"
      ],
      "metadata": {
        "colab": {
          "base_uri": "https://localhost:8080/",
          "height": 430
        },
        "id": "dHUhWdAR8-Gu",
        "outputId": "cc0b9018-aa87-471f-b53d-e04709b12ef4"
      },
      "execution_count": 11,
      "outputs": [
        {
          "output_type": "display_data",
          "data": {
            "text/plain": [
              "<Figure size 640x480 with 1 Axes>"
            ],
            "image/png": "[encoded data removed]"
          },
          "metadata": {}
        }
      ]
    },
    {
      "cell_type": "code",
      "source": [
        "test_datagen = ImageDataGenerator(rescale=1./255)\n",
        "test_data = test_datagen.flow_from_directory(\n",
        "    test_dir,\n",
        "    target_size=(256,256),\n",
        "    batch_size=32,\n",
        "    class_mode='binary'\n",
        ")"
      ],
      "metadata": {
        "colab": {
          "base_uri": "https://localhost:8080/"
        },
        "id": "wibSJkrw9Cgh",
        "outputId": "7448bb68-98fe-4dff-89ea-81adf817cb00"
      },
      "execution_count": 12,
      "outputs": [
        {
          "output_type": "stream",
          "name": "stdout",
          "text": [
            "Found 106 images belonging to 2 classes.\n"
          ]
        }
      ]
    },
    {
      "cell_type": "code",
      "source": [
        "#predict the test data\n",
        "predictions = resnet_model.predict(test_data)\n",
        "print(predictions)"
      ],
      "metadata": {
        "colab": {
          "base_uri": "https://localhost:8080/"
        },
        "id": "UkVL8lcv9NBF",
        "outputId": "17135958-6a65-4ac8-94e7-6ac6f214b13c"
      },
      "execution_count": 13,
      "outputs": [
        {
          "output_type": "stream",
          "name": "stdout",
          "text": [
            "4/4 [==============================] - 30s 7s/step\n",
            "[[0.39062053]\n",
            " [0.17007242]\n",
            " [0.6691607 ]\n",
            " [0.66256464]\n",
            " [0.12862824]\n",
            " [0.9956953 ]\n",
            " [0.8790091 ]\n",
            " [0.10324378]\n",
            " [0.78782237]\n",
            " [0.71415955]\n",
            " [0.9831113 ]\n",
            " [0.1462732 ]\n",
            " [0.9748001 ]\n",
            " [0.7397282 ]\n",
            " [0.5555392 ]\n",
            " [0.23844546]\n",
            " [0.07172358]\n",
            " [0.44187665]\n",
            " [0.27918237]\n",
            " [0.983101  ]\n",
            " [0.10128106]\n",
            " [0.8624664 ]\n",
            " [0.38650808]\n",
            " [0.7389349 ]\n",
            " [0.33906102]\n",
            " [0.17993787]\n",
            " [0.13839372]\n",
            " [0.28322452]\n",
            " [0.73777366]\n",
            " [0.9077301 ]\n",
            " [0.31257218]\n",
            " [0.67231625]\n",
            " [0.8068503 ]\n",
            " [0.733872  ]\n",
            " [0.50401074]\n",
            " [0.06485504]\n",
            " [0.08414119]\n",
            " [0.29753655]\n",
            " [0.69628686]\n",
            " [0.7944996 ]\n",
            " [0.2051356 ]\n",
            " [0.17639554]\n",
            " [0.9285306 ]\n",
            " [0.9711358 ]\n",
            " [0.11686563]\n",
            " [0.11751584]\n",
            " [0.12294323]\n",
            " [0.2593052 ]\n",
            " [0.86219925]\n",
            " [0.18183939]\n",
            " [0.46994486]\n",
            " [0.3658364 ]\n",
            " [0.99769735]\n",
            " [0.45935747]\n",
            " [0.9276766 ]\n",
            " [0.27079454]\n",
            " [0.9750697 ]\n",
            " [0.9692969 ]\n",
            " [0.5555096 ]\n",
            " [0.6255496 ]\n",
            " [0.17498311]\n",
            " [0.9050502 ]\n",
            " [0.8927662 ]\n",
            " [0.1879273 ]\n",
            " [0.5228052 ]\n",
            " [0.2041698 ]\n",
            " [0.2597018 ]\n",
            " [0.9747157 ]\n",
            " [0.86599326]\n",
            " [0.98380655]\n",
            " [0.94652414]\n",
            " [0.69594353]\n",
            " [0.41746214]\n",
            " [0.22445504]\n",
            " [0.91703767]\n",
            " [0.24345393]\n",
            " [0.09527996]\n",
            " [0.05447435]\n",
            " [0.57747716]\n",
            " [0.09971585]\n",
            " [0.988169  ]\n",
            " [0.5641581 ]\n",
            " [0.32674015]\n",
            " [0.9828335 ]\n",
            " [0.09918912]\n",
            " [0.93048036]\n",
            " [0.3223252 ]\n",
            " [0.31739926]\n",
            " [0.1140919 ]\n",
            " [0.73299223]\n",
            " [0.9800763 ]\n",
            " [0.9250672 ]\n",
            " [0.8493912 ]\n",
            " [0.9932891 ]\n",
            " [0.5600422 ]\n",
            " [0.8956415 ]\n",
            " [0.18307841]\n",
            " [0.09971585]\n",
            " [0.11702722]\n",
            " [0.65294456]\n",
            " [0.88724506]\n",
            " [0.31739926]\n",
            " [0.9702976 ]\n",
            " [0.16003186]\n",
            " [0.9782329 ]\n",
            " [0.24345393]]\n"
          ]
        }
      ]
    },
    {
      "cell_type": "code",
      "source": [
        "len(predictions)"
      ],
      "metadata": {
        "colab": {
          "base_uri": "https://localhost:8080/"
        },
        "id": "1np7zRCR96g_",
        "outputId": "736504a2-639b-4507-e498-291e05377ba6"
      },
      "execution_count": 14,
      "outputs": [
        {
          "output_type": "execute_result",
          "data": {
            "text/plain": [
              "106"
            ]
          },
          "metadata": {},
          "execution_count": 14
        }
      ]
    },
    {
      "cell_type": "code",
      "source": [
        "from sklearn.metrics import confusion_matrix, classification_report\n",
        "\n",
        "# Assuming you have ground truth labels (true_labels) and predicted labels (predictions)\n",
        "true_labels = test_data.classes\n",
        "predicted_labels = (predictions > 0.5).astype(int)  # Adjust the threshold as needed\n",
        "\n",
        "# Calculate confusion matrix\n",
        "cm = confusion_matrix(true_labels, predicted_labels)\n",
        "\n",
        "# Print confusion matrix\n",
        "print(\"Confusion Matrix:\")\n",
        "print(cm)\n",
        "\n",
        "# Print classification report\n",
        "print(\"Classification Report:\")\n",
        "print(classification_report(true_labels, predicted_labels))"
      ],
      "metadata": {
        "colab": {
          "base_uri": "https://localhost:8080/"
        },
        "id": "Waez5P3B9_zb",
        "outputId": "63d8a7d3-a15b-4c10-ea96-e68765d3c3f8"
      },
      "execution_count": 15,
      "outputs": [
        {
          "output_type": "stream",
          "name": "stdout",
          "text": [
            "Confusion Matrix:\n",
            "[[30 29]\n",
            " [21 26]]\n",
            "Classification Report:\n",
            "              precision    recall  f1-score   support\n",
            "\n",
            "           0       0.59      0.51      0.55        59\n",
            "           1       0.47      0.55      0.51        47\n",
            "\n",
            "    accuracy                           0.53       106\n",
            "   macro avg       0.53      0.53      0.53       106\n",
            "weighted avg       0.54      0.53      0.53       106\n",
            "\n"
          ]
        }
      ]
    }
  ]
}