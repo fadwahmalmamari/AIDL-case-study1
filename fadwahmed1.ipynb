{
  "nbformat": 4,
  "nbformat_minor": 0,
  "metadata": {
    "colab": {
      "provenance": []
    },
    "kernelspec": {
      "name": "python3",
      "display_name": "Python 3"
    },
    "language_info": {
      "name": "python"
    }
  },
  "cells": [
    {
      "cell_type": "code",
      "execution_count": 2,
      "metadata": {
        "colab": {
          "base_uri": "https://localhost:8080/"
        },
        "id": "XwS3JKt-U1CE",
        "outputId": "adfa3df7-2af8-4f98-9163-de38f774d581"
      },
      "outputs": [
        {
          "output_type": "stream",
          "name": "stdout",
          "text": [
            "Mounted at /content/drive\n"
          ]
        }
      ],
      "source": [
        "from google.colab import drive\n",
        "drive.mount('/content/drive', force_remount=True)\n"
      ]
    },
    {
      "cell_type": "code",
      "source": [
        "train_dir = '/content/drive/MyDrive/train'\n",
        "test_dir = '/content/drive/MyDrive/test'"
      ],
      "metadata": {
        "id": "uibB32N2pEJZ"
      },
      "execution_count": 3,
      "outputs": []
    },
    {
      "cell_type": "code",
      "source": [
        "import os\n",
        "print(len(os.listdir('/content/drive/MyDrive/train/pizza')))\n",
        "print(len(os.listdir('/content/drive/MyDrive/train/icecream')))\n",
        "print(len(os.listdir('/content/drive/MyDrive/test/pizza')))\n",
        "print(len(os.listdir('/content/drive/MyDrive/test/icecream')))"
      ],
      "metadata": {
        "colab": {
          "base_uri": "https://localhost:8080/"
        },
        "id": "3JwQ_eV6uAaJ",
        "outputId": "8c093801-bd0c-4fb0-9d99-4287d8dc24b1"
      },
      "execution_count": 4,
      "outputs": [
        {
          "output_type": "stream",
          "name": "stdout",
          "text": [
            "327\n",
            "391\n",
            "47\n",
            "59\n"
          ]
        }
      ]
    },
    {
      "cell_type": "code",
      "source": [
        "import tensorflow as tf\n",
        "from tensorflow.keras.preprocessing.image import ImageDataGenerator\n",
        "\n",
        "# Create ImageDataGenerator for training set\n",
        "train_datagen = ImageDataGenerator(\n",
        "    rescale=1./255,\n",
        "    validation_split=0.2  # Split 20% of the images for validation\n",
        ")\n",
        "\n",
        "# Load and prepare training data\n",
        "train_data = train_datagen.flow_from_directory(\n",
        "    train_dir,\n",
        "    target_size=(256,256),\n",
        "    batch_size=32,\n",
        "    class_mode='binary',  # 'binary' for binary classification (cats vs. dogs)\n",
        "    subset='training'  # Specify 'training' for the training set\n",
        ")\n",
        "\n",
        "# Create ImageDataGenerator for validation set\n",
        "validation_datagen = ImageDataGenerator(\n",
        "    rescale=1./255,\n",
        "    validation_split=0.2  # Note: Using the same validation split as in the training set\n",
        ")\n",
        "\n",
        "# Load and prepare validation data\n",
        "validation_data = validation_datagen.flow_from_directory(\n",
        "    train_dir,\n",
        "    target_size=(256,256),\n",
        "    batch_size=32,\n",
        "    class_mode='binary',\n",
        "    subset='validation'  # Specify 'validation' for the validation set\n",
        ")"
      ],
      "metadata": {
        "colab": {
          "base_uri": "https://localhost:8080/"
        },
        "id": "MD76O7MJuokz",
        "outputId": "b936e7fe-1694-4627-f1eb-e167ec78f832"
      },
      "execution_count": 5,
      "outputs": [
        {
          "output_type": "stream",
          "name": "stdout",
          "text": [
            "Found 575 images belonging to 2 classes.\n",
            "Found 143 images belonging to 2 classes.\n"
          ]
        }
      ]
    },
    {
      "cell_type": "code",
      "source": [
        "from tensorflow import keras\n",
        "from keras import Sequential\n",
        "from keras.layers import Dense,Conv2D,MaxPooling2D,Flatten,BatchNormalization,UpSampling2D, Dropout"
      ],
      "metadata": {
        "id": "kJ2gM2SYv3eP"
      },
      "execution_count": 6,
      "outputs": []
    },
    {
      "cell_type": "code",
      "source": [
        "# create CNN model\n",
        "\n",
        "model = Sequential()\n",
        "\n",
        "model.add(Conv2D(32,kernel_size=(3,3),padding='valid',activation='relu',input_shape=(256,256,3)))  # 32 filters\n",
        "#model.add(BatchNormalization())  # added to reduce overfitting\n",
        "model.add(MaxPooling2D(pool_size=(2,2),strides=2,padding='valid'))\n",
        "\n",
        "model.add(Conv2D(64,kernel_size=(3,3),padding='valid',activation='relu'))\n",
        "#model.add(BatchNormalization())  # added to reduce overfitting\n",
        "model.add(MaxPooling2D(pool_size=(2,2),strides=2,padding='valid'))\n",
        "\n",
        "model.add(Conv2D(128,kernel_size=(3,3),padding='valid',activation='relu'))\n",
        "#model.add(BatchNormalization())  # added to reduce overfitting\n",
        "model.add(MaxPooling2D(pool_size=(2,2),strides=2,padding='valid'))\n",
        "\n",
        "model.add(Flatten())\n",
        "\n",
        "model.add(Dense(128,activation='relu')) #feature reduction\n",
        "#model.add(Dropout(0.1))  # added to reduce overfitting\n",
        "model.add(Dense(64,activation='relu'))\n",
        "#model.add(Dropout(0.1))  # added to reduce overfitting\n",
        "model.add(Dense(1,activation='sigmoid'))  #output layer"
      ],
      "metadata": {
        "id": "aaUbhWzvwFFG"
      },
      "execution_count": 7,
      "outputs": []
    },
    {
      "cell_type": "code",
      "source": [
        "from keras.optimizers import Adam\n",
        "model.compile(optimizer=Adam(learning_rate=0.001),loss='binary_crossentropy',metrics=['accuracy']) #binary_crossentropy - binary classification"
      ],
      "metadata": {
        "id": "_wxgNQ-swP8H"
      },
      "execution_count": 8,
      "outputs": []
    },
    {
      "cell_type": "code",
      "source": [
        "history = model.fit(train_data, epochs=30, validation_data=validation_data)"
      ],
      "metadata": {
        "colab": {
          "base_uri": "https://localhost:8080/"
        },
        "id": "M_Twx58PwSi2",
        "outputId": "a8bc4648-751b-4dd0-dc0c-853dbb4cae95"
      },
      "execution_count": 9,
      "outputs": [
        {
          "output_type": "stream",
          "name": "stdout",
          "text": [
            "Epoch 1/30\n",
            "18/18 [==============================] - 211s 11s/step - loss: 0.8153 - accuracy: 0.6835 - val_loss: 0.4099 - val_accuracy: 0.8252\n",
            "Epoch 2/30\n",
            "18/18 [==============================] - 90s 5s/step - loss: 0.4034 - accuracy: 0.8278 - val_loss: 0.3635 - val_accuracy: 0.8392\n",
            "Epoch 3/30\n",
            "18/18 [==============================] - 87s 5s/step - loss: 0.3235 - accuracy: 0.8557 - val_loss: 0.2958 - val_accuracy: 0.8881\n",
            "Epoch 4/30\n",
            "18/18 [==============================] - 89s 5s/step - loss: 0.3002 - accuracy: 0.8852 - val_loss: 0.3256 - val_accuracy: 0.8601\n",
            "Epoch 5/30\n",
            "18/18 [==============================] - 90s 5s/step - loss: 0.1996 - accuracy: 0.9096 - val_loss: 0.3541 - val_accuracy: 0.8322\n",
            "Epoch 6/30\n",
            "18/18 [==============================] - 94s 5s/step - loss: 0.1393 - accuracy: 0.9461 - val_loss: 0.3635 - val_accuracy: 0.8951\n",
            "Epoch 7/30\n",
            "18/18 [==============================] - 86s 5s/step - loss: 0.0971 - accuracy: 0.9513 - val_loss: 0.3616 - val_accuracy: 0.8741\n",
            "Epoch 8/30\n",
            "18/18 [==============================] - 87s 5s/step - loss: 0.0354 - accuracy: 0.9930 - val_loss: 0.3665 - val_accuracy: 0.8601\n",
            "Epoch 9/30\n",
            "18/18 [==============================] - 87s 5s/step - loss: 0.0972 - accuracy: 0.9583 - val_loss: 0.3467 - val_accuracy: 0.8951\n",
            "Epoch 10/30\n",
            "18/18 [==============================] - 86s 5s/step - loss: 0.1662 - accuracy: 0.9252 - val_loss: 0.3481 - val_accuracy: 0.8741\n",
            "Epoch 11/30\n",
            "18/18 [==============================] - 85s 5s/step - loss: 0.0506 - accuracy: 0.9896 - val_loss: 0.4339 - val_accuracy: 0.8811\n",
            "Epoch 12/30\n",
            "18/18 [==============================] - 88s 5s/step - loss: 0.0172 - accuracy: 0.9965 - val_loss: 0.4330 - val_accuracy: 0.9021\n",
            "Epoch 13/30\n",
            "18/18 [==============================] - 94s 5s/step - loss: 0.0036 - accuracy: 1.0000 - val_loss: 0.4904 - val_accuracy: 0.8811\n",
            "Epoch 14/30\n",
            "18/18 [==============================] - 87s 5s/step - loss: 0.0014 - accuracy: 1.0000 - val_loss: 0.5126 - val_accuracy: 0.8881\n",
            "Epoch 15/30\n",
            "18/18 [==============================] - 90s 5s/step - loss: 7.2254e-04 - accuracy: 1.0000 - val_loss: 0.5352 - val_accuracy: 0.8881\n",
            "Epoch 16/30\n",
            "18/18 [==============================] - 91s 5s/step - loss: 4.8928e-04 - accuracy: 1.0000 - val_loss: 0.5684 - val_accuracy: 0.8881\n",
            "Epoch 17/30\n",
            "18/18 [==============================] - 90s 5s/step - loss: 3.4529e-04 - accuracy: 1.0000 - val_loss: 0.5745 - val_accuracy: 0.8881\n",
            "Epoch 18/30\n",
            "18/18 [==============================] - 89s 5s/step - loss: 2.7430e-04 - accuracy: 1.0000 - val_loss: 0.5942 - val_accuracy: 0.8881\n",
            "Epoch 19/30\n",
            "18/18 [==============================] - 94s 5s/step - loss: 2.1113e-04 - accuracy: 1.0000 - val_loss: 0.6045 - val_accuracy: 0.8951\n",
            "Epoch 20/30\n",
            "18/18 [==============================] - 88s 5s/step - loss: 1.7433e-04 - accuracy: 1.0000 - val_loss: 0.6241 - val_accuracy: 0.8881\n",
            "Epoch 21/30\n",
            "18/18 [==============================] - 87s 5s/step - loss: 1.3441e-04 - accuracy: 1.0000 - val_loss: 0.6381 - val_accuracy: 0.8951\n",
            "Epoch 22/30\n",
            "18/18 [==============================] - 90s 5s/step - loss: 1.0645e-04 - accuracy: 1.0000 - val_loss: 0.6649 - val_accuracy: 0.8951\n",
            "Epoch 23/30\n",
            "18/18 [==============================] - 89s 5s/step - loss: 7.7149e-05 - accuracy: 1.0000 - val_loss: 0.6543 - val_accuracy: 0.8881\n",
            "Epoch 24/30\n",
            "18/18 [==============================] - 90s 5s/step - loss: 6.1860e-05 - accuracy: 1.0000 - val_loss: 0.6634 - val_accuracy: 0.8881\n",
            "Epoch 25/30\n",
            "18/18 [==============================] - 91s 5s/step - loss: 5.1655e-05 - accuracy: 1.0000 - val_loss: 0.6669 - val_accuracy: 0.8881\n",
            "Epoch 26/30\n",
            "18/18 [==============================] - 96s 5s/step - loss: 4.8119e-05 - accuracy: 1.0000 - val_loss: 0.6724 - val_accuracy: 0.8881\n",
            "Epoch 27/30\n",
            "18/18 [==============================] - 87s 5s/step - loss: 3.9486e-05 - accuracy: 1.0000 - val_loss: 0.7049 - val_accuracy: 0.8951\n",
            "Epoch 28/30\n",
            "18/18 [==============================] - 90s 5s/step - loss: 3.4895e-05 - accuracy: 1.0000 - val_loss: 0.6940 - val_accuracy: 0.8951\n",
            "Epoch 29/30\n",
            "18/18 [==============================] - 90s 5s/step - loss: 2.8781e-05 - accuracy: 1.0000 - val_loss: 0.6961 - val_accuracy: 0.8881\n",
            "Epoch 30/30\n",
            "18/18 [==============================] - 90s 5s/step - loss: 2.6696e-05 - accuracy: 1.0000 - val_loss: 0.7203 - val_accuracy: 0.8951\n"
          ]
        }
      ]
    },
    {
      "cell_type": "code",
      "source": [
        "import matplotlib.pyplot as plt\n",
        "\n",
        "plt.plot(history.history['accuracy'],color='red',label='train')\n",
        "plt.plot(history.history['val_accuracy'],color='blue',label='validation')\n",
        "plt.legend()\n",
        "plt.show()"
      ],
      "metadata": {
        "colab": {
          "base_uri": "https://localhost:8080/",
          "height": 430
        },
        "id": "DAGtI9-r8WuL",
        "outputId": "f1653dbc-d648-4f25-ba5c-0681fcef40a6"
      },
      "execution_count": 10,
      "outputs": [
        {
          "output_type": "display_data",
          "data": {
            "text/plain": [
              "<Figure size 640x480 with 1 Axes>"
            ],
            "image/png": "[encoded data removed]"
          },
          "metadata": {}
        }
      ]
    },
    {
      "cell_type": "code",
      "source": [
        "plt.plot(history.history['loss'],color='red',label='train')\n",
        "plt.plot(history.history['val_loss'],color='blue',label='validation')\n",
        "plt.legend()\n",
        "plt.show()"
      ],
      "metadata": {
        "colab": {
          "base_uri": "https://localhost:8080/",
          "height": 430
        },
        "id": "YHtamdZM8Z-i",
        "outputId": "50dd8e95-2f12-4fd6-f080-fe97a44ef948"
      },
      "execution_count": 11,
      "outputs": [
        {
          "output_type": "display_data",
          "data": {
            "text/plain": [
              "<Figure size 640x480 with 1 Axes>"
            ],
            "image/png": "[encoded data removed]"
          },
          "metadata": {}
        }
      ]
    },
    {
      "cell_type": "code",
      "source": [
        "test_datagen = ImageDataGenerator(rescale=1./255)\n",
        "test_data = test_datagen.flow_from_directory(\n",
        "    test_dir,\n",
        "    target_size=(256,256),\n",
        "    batch_size=32,\n",
        "    class_mode='binary'\n",
        ")"
      ],
      "metadata": {
        "colab": {
          "base_uri": "https://localhost:8080/"
        },
        "id": "stWRf61w8sTS",
        "outputId": "682e0669-3ad3-4249-ce7e-c0b0dee5e3b1"
      },
      "execution_count": 12,
      "outputs": [
        {
          "output_type": "stream",
          "name": "stdout",
          "text": [
            "Found 106 images belonging to 2 classes.\n"
          ]
        }
      ]
    },
    {
      "cell_type": "code",
      "source": [
        "#predict the test data\n",
        "predictions = model.predict(test_data)\n",
        "print(predictions)"
      ],
      "metadata": {
        "colab": {
          "base_uri": "https://localhost:8080/"
        },
        "id": "ZbnCMB-68ySL",
        "outputId": "40bca076-7ff8-49fd-d2a2-39a3ffb1f43c"
      },
      "execution_count": 13,
      "outputs": [
        {
          "output_type": "stream",
          "name": "stdout",
          "text": [
            "4/4 [==============================] - 22s 7s/step\n",
            "[[9.99999940e-01]\n",
            " [1.00000000e+00]\n",
            " [2.30845581e-06]\n",
            " [4.00048863e-13]\n",
            " [6.32198388e-03]\n",
            " [1.04838250e-06]\n",
            " [2.23637660e-08]\n",
            " [9.94974971e-01]\n",
            " [9.95508075e-01]\n",
            " [3.46700472e-06]\n",
            " [2.06657536e-08]\n",
            " [9.99997318e-01]\n",
            " [8.85787085e-06]\n",
            " [2.30845581e-06]\n",
            " [2.24390515e-08]\n",
            " [1.88377574e-02]\n",
            " [2.21921326e-09]\n",
            " [2.79191765e-04]\n",
            " [1.00000000e+00]\n",
            " [1.00000000e+00]\n",
            " [3.44124771e-07]\n",
            " [1.00000000e+00]\n",
            " [5.10504723e-01]\n",
            " [3.88646049e-06]\n",
            " [4.16217297e-01]\n",
            " [1.83129889e-09]\n",
            " [1.92163698e-05]\n",
            " [1.75291129e-10]\n",
            " [9.99999702e-01]\n",
            " [9.28706001e-08]\n",
            " [1.00000000e+00]\n",
            " [9.97189760e-01]\n",
            " [2.15791375e-03]\n",
            " [1.00332494e-04]\n",
            " [1.42692585e-07]\n",
            " [2.02465453e-04]\n",
            " [6.55378471e-08]\n",
            " [1.32745981e-09]\n",
            " [9.96653974e-01]\n",
            " [9.89186108e-01]\n",
            " [9.99999523e-01]\n",
            " [9.99999642e-01]\n",
            " [1.41229387e-03]\n",
            " [9.98921156e-01]\n",
            " [1.82148199e-07]\n",
            " [9.89845514e-01]\n",
            " [1.00000000e+00]\n",
            " [1.77797304e-07]\n",
            " [1.00000000e+00]\n",
            " [1.34789370e-05]\n",
            " [1.00000000e+00]\n",
            " [1.00000000e+00]\n",
            " [9.99999881e-01]\n",
            " [4.05058972e-06]\n",
            " [5.41436970e-02]\n",
            " [8.16090345e-01]\n",
            " [9.98759329e-01]\n",
            " [9.99999881e-01]\n",
            " [9.98698831e-01]\n",
            " [5.63073154e-05]\n",
            " [1.07898146e-07]\n",
            " [2.45991583e-08]\n",
            " [9.48532283e-01]\n",
            " [1.00000000e+00]\n",
            " [1.91340541e-06]\n",
            " [1.36875475e-04]\n",
            " [4.12400357e-11]\n",
            " [5.72113646e-03]\n",
            " [9.90345143e-06]\n",
            " [1.63004631e-06]\n",
            " [9.47363675e-01]\n",
            " [3.53057295e-01]\n",
            " [1.21348336e-07]\n",
            " [1.63004631e-06]\n",
            " [1.00000000e+00]\n",
            " [2.65791151e-03]\n",
            " [2.05581615e-04]\n",
            " [6.95478457e-06]\n",
            " [9.07055608e-07]\n",
            " [1.00000000e+00]\n",
            " [1.90682782e-04]\n",
            " [1.92757621e-02]\n",
            " [1.00000000e+00]\n",
            " [1.00000000e+00]\n",
            " [1.00000000e+00]\n",
            " [9.99991834e-01]\n",
            " [1.98488851e-06]\n",
            " [1.00000000e+00]\n",
            " [1.73154157e-02]\n",
            " [1.00000000e+00]\n",
            " [9.26666737e-01]\n",
            " [2.82285839e-08]\n",
            " [8.54992788e-09]\n",
            " [1.00000000e+00]\n",
            " [1.00000000e+00]\n",
            " [9.99999881e-01]\n",
            " [7.45874495e-05]\n",
            " [9.94734704e-01]\n",
            " [1.00000000e+00]\n",
            " [1.21348336e-07]\n",
            " [1.39524226e-09]\n",
            " [1.57592339e-08]\n",
            " [1.03094840e-06]\n",
            " [1.80305401e-03]\n",
            " [9.99989748e-01]\n",
            " [1.00000000e+00]]\n"
          ]
        }
      ]
    },
    {
      "cell_type": "code",
      "source": [
        "len(predictions)"
      ],
      "metadata": {
        "colab": {
          "base_uri": "https://localhost:8080/"
        },
        "id": "oOTVFhy29Hpq",
        "outputId": "b458a6c8-e306-496f-aca2-66428087a1b0"
      },
      "execution_count": 14,
      "outputs": [
        {
          "output_type": "execute_result",
          "data": {
            "text/plain": [
              "106"
            ]
          },
          "metadata": {},
          "execution_count": 14
        }
      ]
    },
    {
      "cell_type": "code",
      "source": [
        "from sklearn.metrics import confusion_matrix, classification_report\n",
        "\n",
        "# Assuming you have ground truth labels (true_labels) and predicted labels (predictions)\n",
        "true_labels = test_data.classes\n",
        "predicted_labels = (predictions > 0.5).astype(int)  # Adjust the threshold as needed\n",
        "\n",
        "# Calculate confusion matrix\n",
        "cm = confusion_matrix(true_labels, predicted_labels)\n",
        "\n",
        "# Print confusion matrix\n",
        "print(\"Confusion Matrix:\")\n",
        "print(cm)\n",
        "\n",
        "# Print classification report\n",
        "print(\"Classification Report:\")\n",
        "print(classification_report(true_labels, predicted_labels))"
      ],
      "metadata": {
        "colab": {
          "base_uri": "https://localhost:8080/"
        },
        "id": "L27K8og09Mn5",
        "outputId": "d988e006-c716-446d-dd0e-049ca7db3947"
      },
      "execution_count": 15,
      "outputs": [
        {
          "output_type": "stream",
          "name": "stdout",
          "text": [
            "Confusion Matrix:\n",
            "[[32 27]\n",
            " [28 19]]\n",
            "Classification Report:\n",
            "              precision    recall  f1-score   support\n",
            "\n",
            "           0       0.53      0.54      0.54        59\n",
            "           1       0.41      0.40      0.41        47\n",
            "\n",
            "    accuracy                           0.48       106\n",
            "   macro avg       0.47      0.47      0.47       106\n",
            "weighted avg       0.48      0.48      0.48       106\n",
            "\n"
          ]
        }
      ]
    }
  ]
}