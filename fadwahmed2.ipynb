{
  "nbformat": 4,
  "nbformat_minor": 0,
  "metadata": {
    "colab": {
      "provenance": []
    },
    "kernelspec": {
      "name": "python3",
      "display_name": "Python 3"
    },
    "language_info": {
      "name": "python"
    }
  },
  "cells": [
    {
      "cell_type": "code",
      "execution_count": 1,
      "metadata": {
        "colab": {
          "base_uri": "https://localhost:8080/"
        },
        "id": "Apmg22jYTWY5",
        "outputId": "4d10c3ae-b61c-46b4-d844-eaf47560a944"
      },
      "outputs": [
        {
          "output_type": "stream",
          "name": "stdout",
          "text": [
            "Mounted at /content/drive\n"
          ]
        }
      ],
      "source": [
        "from google.colab import drive\n",
        "drive.mount('/content/drive', force_remount=True)"
      ]
    },
    {
      "cell_type": "code",
      "source": [
        "train_dir = '/content/drive/MyDrive/train'\n",
        "test_dir = '/content/drive/MyDrive/test'"
      ],
      "metadata": {
        "id": "5qJMgamlTwyN"
      },
      "execution_count": 2,
      "outputs": []
    },
    {
      "cell_type": "code",
      "source": [
        "import os\n",
        "print(len(os.listdir('/content/drive/MyDrive/train/pizza')))\n",
        "print(len(os.listdir('/content/drive/MyDrive/train/icecream')))\n",
        "print(len(os.listdir('/content/drive/MyDrive/test/pizza')))\n",
        "print(len(os.listdir('/content/drive/MyDrive/test/icecream')))"
      ],
      "metadata": {
        "colab": {
          "base_uri": "https://localhost:8080/"
        },
        "id": "iGLrlneGT4B1",
        "outputId": "757ce06c-9570-4cd2-fb54-50c492fbe0ee"
      },
      "execution_count": 3,
      "outputs": [
        {
          "output_type": "stream",
          "name": "stdout",
          "text": [
            "327\n",
            "391\n",
            "47\n",
            "59\n"
          ]
        }
      ]
    },
    {
      "cell_type": "code",
      "source": [
        "import tensorflow as tf\n",
        "from tensorflow.keras.preprocessing.image import ImageDataGenerator\n",
        "\n",
        "# Create ImageDataGenerator for training set\n",
        "train_datagen = ImageDataGenerator(\n",
        "    rescale=1./255,\n",
        "    validation_split=0.2  # Split 20% of the images for validation\n",
        ")\n",
        "\n",
        "# Load and prepare training data\n",
        "train_data = train_datagen.flow_from_directory(\n",
        "    train_dir,\n",
        "    target_size=(256,256),\n",
        "    batch_size=32,\n",
        "    class_mode='binary',  # 'binary' for binary classification (cats vs. dogs)\n",
        "    subset='training'  # Specify 'training' for the training set\n",
        ")\n",
        "\n",
        "# Create ImageDataGenerator for validation set\n",
        "validation_datagen = ImageDataGenerator(\n",
        "    rescale=1./255,\n",
        "    validation_split=0.2  # Note: Using the same validation split as in the training set\n",
        ")\n",
        "\n",
        "# Load and prepare validation data\n",
        "validation_data = validation_datagen.flow_from_directory(\n",
        "    train_dir,\n",
        "    target_size=(256,256),\n",
        "    batch_size=32,\n",
        "    class_mode='binary',\n",
        "    subset='validation'  # Specify 'validation' for the validation set\n",
        ")"
      ],
      "metadata": {
        "colab": {
          "base_uri": "https://localhost:8080/"
        },
        "id": "QiHmTT4TUDva",
        "outputId": "3c547d18-5319-49e9-ce2d-02f86e725587"
      },
      "execution_count": 4,
      "outputs": [
        {
          "output_type": "stream",
          "name": "stdout",
          "text": [
            "Found 575 images belonging to 2 classes.\n",
            "Found 143 images belonging to 2 classes.\n"
          ]
        }
      ]
    },
    {
      "cell_type": "code",
      "source": [
        "from tensorflow import keras\n",
        "from keras import Sequential\n",
        "from keras.layers import Dense,Conv2D,MaxPooling2D,Flatten,BatchNormalization,UpSampling2D, Dropout"
      ],
      "metadata": {
        "id": "I5kxTLXbUNG1"
      },
      "execution_count": 5,
      "outputs": []
    },
    {
      "cell_type": "code",
      "source": [
        "model = Sequential()\n",
        "\n",
        "model.add(Conv2D(32,kernel_size=(3,3),padding='valid',activation='relu',input_shape=(256,256,3)))  # 32 filters\n",
        "#model.add(BatchNormalization())  # added to reduce overfitting\n",
        "model.add(MaxPooling2D(pool_size=(2,2),strides=2,padding='valid'))\n",
        "\n",
        "model.add(Conv2D(64,kernel_size=(3,3),padding='valid',activation='relu'))\n",
        "#model.add(BatchNormalization())  # added to reduce overfitting\n",
        "model.add(MaxPooling2D(pool_size=(2,2),strides=2,padding='valid'))\n",
        "\n",
        "model.add(Conv2D(128,kernel_size=(3,3),padding='valid',activation='relu'))\n",
        "#model.add(BatchNormalization())  # added to reduce overfitting\n",
        "model.add(MaxPooling2D(pool_size=(2,2),strides=2,padding='valid'))\n",
        "\n",
        "model.add(Flatten())\n",
        "\n",
        "model.add(Dense(128,activation='relu')) #feature reduction\n",
        "#model.add(Dropout(0.1))  # added to reduce overfitting\n",
        "model.add(Dense(64,activation='relu'))\n",
        "#model.add(Dropout(0.1))  # added to reduce overfitting\n",
        "model.add(Dense(1,activation='sigmoid'))  #output layer"
      ],
      "metadata": {
        "id": "1Rp6kx1vUStu"
      },
      "execution_count": 6,
      "outputs": []
    },
    {
      "cell_type": "code",
      "source": [
        "from keras.optimizers import Adam\n",
        "model.compile(optimizer=Adam(learning_rate=0.001),loss='binary_crossentropy',metrics=['accuracy']) #binary_crossentropy - binary classification"
      ],
      "metadata": {
        "id": "F6olZmxvUY3Y"
      },
      "execution_count": 7,
      "outputs": []
    },
    {
      "cell_type": "code",
      "source": [
        "history = model.fit(train_data, epochs=30, validation_data=validation_data)"
      ],
      "metadata": {
        "colab": {
          "base_uri": "https://localhost:8080/"
        },
        "id": "DtcVhqLJUmmP",
        "outputId": "65946a0b-4715-4689-def5-d08cb0dd3b13"
      },
      "execution_count": 8,
      "outputs": [
        {
          "output_type": "stream",
          "name": "stdout",
          "text": [
            "Epoch 1/30\n",
            "18/18 [==============================] - 508s 28s/step - loss: 0.8080 - accuracy: 0.6122 - val_loss: 0.4088 - val_accuracy: 0.8462\n",
            "Epoch 2/30\n",
            "18/18 [==============================] - 95s 5s/step - loss: 0.4817 - accuracy: 0.7774 - val_loss: 0.3756 - val_accuracy: 0.8671\n",
            "Epoch 3/30\n",
            "18/18 [==============================] - 97s 5s/step - loss: 0.3239 - accuracy: 0.8643 - val_loss: 0.2908 - val_accuracy: 0.8881\n",
            "Epoch 4/30\n",
            "18/18 [==============================] - 93s 5s/step - loss: 0.2253 - accuracy: 0.9061 - val_loss: 0.3029 - val_accuracy: 0.8811\n",
            "Epoch 5/30\n",
            "18/18 [==============================] - 103s 6s/step - loss: 0.1236 - accuracy: 0.9530 - val_loss: 0.3995 - val_accuracy: 0.8881\n",
            "Epoch 6/30\n",
            "18/18 [==============================] - 97s 5s/step - loss: 0.3793 - accuracy: 0.8417 - val_loss: 0.4575 - val_accuracy: 0.7622\n",
            "Epoch 7/30\n",
            "18/18 [==============================] - 94s 5s/step - loss: 0.2210 - accuracy: 0.9165 - val_loss: 0.3551 - val_accuracy: 0.8531\n",
            "Epoch 8/30\n",
            "18/18 [==============================] - 93s 5s/step - loss: 0.1033 - accuracy: 0.9600 - val_loss: 0.3934 - val_accuracy: 0.8462\n",
            "Epoch 9/30\n",
            "18/18 [==============================] - 93s 5s/step - loss: 0.0427 - accuracy: 0.9791 - val_loss: 0.4282 - val_accuracy: 0.8531\n",
            "Epoch 10/30\n",
            "18/18 [==============================] - 93s 5s/step - loss: 0.0190 - accuracy: 0.9983 - val_loss: 0.4661 - val_accuracy: 0.8811\n",
            "Epoch 11/30\n",
            "18/18 [==============================] - 101s 5s/step - loss: 0.0148 - accuracy: 0.9965 - val_loss: 1.1373 - val_accuracy: 0.8462\n",
            "Epoch 12/30\n",
            "18/18 [==============================] - 95s 5s/step - loss: 0.1622 - accuracy: 0.9478 - val_loss: 0.4494 - val_accuracy: 0.8741\n",
            "Epoch 13/30\n",
            "18/18 [==============================] - 93s 5s/step - loss: 0.0687 - accuracy: 0.9809 - val_loss: 0.5153 - val_accuracy: 0.8741\n",
            "Epoch 14/30\n",
            "18/18 [==============================] - 92s 5s/step - loss: 0.0204 - accuracy: 0.9965 - val_loss: 0.5119 - val_accuracy: 0.8951\n",
            "Epoch 15/30\n",
            "18/18 [==============================] - 94s 5s/step - loss: 0.0048 - accuracy: 1.0000 - val_loss: 0.6212 - val_accuracy: 0.8811\n",
            "Epoch 16/30\n",
            "18/18 [==============================] - 93s 5s/step - loss: 0.0018 - accuracy: 1.0000 - val_loss: 0.6568 - val_accuracy: 0.8741\n",
            "Epoch 17/30\n",
            "18/18 [==============================] - 102s 6s/step - loss: 0.0010 - accuracy: 1.0000 - val_loss: 0.6644 - val_accuracy: 0.8951\n",
            "Epoch 18/30\n",
            "18/18 [==============================] - 93s 5s/step - loss: 5.7939e-04 - accuracy: 1.0000 - val_loss: 0.6700 - val_accuracy: 0.8881\n",
            "Epoch 19/30\n",
            "18/18 [==============================] - 97s 5s/step - loss: 4.2115e-04 - accuracy: 1.0000 - val_loss: 0.6978 - val_accuracy: 0.8881\n",
            "Epoch 20/30\n",
            "18/18 [==============================] - 94s 5s/step - loss: 2.9000e-04 - accuracy: 1.0000 - val_loss: 0.7186 - val_accuracy: 0.8951\n",
            "Epoch 21/30\n",
            "18/18 [==============================] - 93s 5s/step - loss: 2.2106e-04 - accuracy: 1.0000 - val_loss: 0.7127 - val_accuracy: 0.8881\n",
            "Epoch 22/30\n",
            "18/18 [==============================] - 92s 5s/step - loss: 1.7885e-04 - accuracy: 1.0000 - val_loss: 0.7264 - val_accuracy: 0.8881\n",
            "Epoch 23/30\n",
            "18/18 [==============================] - 105s 6s/step - loss: 1.4720e-04 - accuracy: 1.0000 - val_loss: 0.7323 - val_accuracy: 0.8881\n",
            "Epoch 24/30\n",
            "18/18 [==============================] - 93s 5s/step - loss: 1.2452e-04 - accuracy: 1.0000 - val_loss: 0.7296 - val_accuracy: 0.8881\n",
            "Epoch 25/30\n",
            "18/18 [==============================] - 94s 5s/step - loss: 1.1465e-04 - accuracy: 1.0000 - val_loss: 0.7584 - val_accuracy: 0.8951\n",
            "Epoch 26/30\n",
            "18/18 [==============================] - 92s 5s/step - loss: 9.1576e-05 - accuracy: 1.0000 - val_loss: 0.7629 - val_accuracy: 0.8951\n",
            "Epoch 27/30\n",
            "18/18 [==============================] - 92s 5s/step - loss: 8.0136e-05 - accuracy: 1.0000 - val_loss: 0.7491 - val_accuracy: 0.8881\n",
            "Epoch 28/30\n",
            "18/18 [==============================] - 98s 5s/step - loss: 7.0018e-05 - accuracy: 1.0000 - val_loss: 0.7500 - val_accuracy: 0.8811\n",
            "Epoch 29/30\n",
            "18/18 [==============================] - 92s 5s/step - loss: 6.4780e-05 - accuracy: 1.0000 - val_loss: 0.7534 - val_accuracy: 0.8811\n",
            "Epoch 30/30\n",
            "18/18 [==============================] - 98s 6s/step - loss: 5.7136e-05 - accuracy: 1.0000 - val_loss: 0.7808 - val_accuracy: 0.8951\n"
          ]
        }
      ]
    },
    {
      "cell_type": "code",
      "source": [
        "import matplotlib.pyplot as plt\n",
        "\n",
        "plt.plot(history.history['accuracy'],color='red',label='train')\n",
        "plt.plot(history.history['val_accuracy'],color='blue',label='validation')\n",
        "plt.legend()\n",
        "plt.show()"
      ],
      "metadata": {
        "colab": {
          "base_uri": "https://localhost:8080/",
          "height": 430
        },
        "id": "gR9nRZVAh5CP",
        "outputId": "45d988ab-5545-4dab-d09a-f85204dc7124"
      },
      "execution_count": 9,
      "outputs": [
        {
          "output_type": "display_data",
          "data": {
            "text/plain": [
              "<Figure size 640x480 with 1 Axes>"
            ],
            "image/png": "[encoded data removed]"
          },
          "metadata": {}
        }
      ]
    },
    {
      "cell_type": "code",
      "source": [
        "plt.plot(history.history['loss'],color='red',label='train')\n",
        "plt.plot(history.history['val_loss'],color='blue',label='validation')\n",
        "plt.legend()\n",
        "plt.show()"
      ],
      "metadata": {
        "colab": {
          "base_uri": "https://localhost:8080/",
          "height": 430
        },
        "id": "sPv5xO0-h_hW",
        "outputId": "3ed54976-478e-4df7-9e1f-e0a00856c19c"
      },
      "execution_count": 10,
      "outputs": [
        {
          "output_type": "display_data",
          "data": {
            "text/plain": [
              "<Figure size 640x480 with 1 Axes>"
            ],
            "image/png": "[encoded data removed]"
          },
          "metadata": {}
        }
      ]
    },
    {
      "cell_type": "code",
      "source": [
        "test_datagen = ImageDataGenerator(rescale=1./255)\n",
        "test_data = test_datagen.flow_from_directory(\n",
        "    test_dir,\n",
        "    target_size=(256,256),\n",
        "    batch_size=32,\n",
        "    class_mode='binary'\n",
        ")"
      ],
      "metadata": {
        "colab": {
          "base_uri": "https://localhost:8080/"
        },
        "id": "IyI-b9KDiFMN",
        "outputId": "3d63d76f-3f83-4f24-8c45-d7c3ae2d9e09"
      },
      "execution_count": 11,
      "outputs": [
        {
          "output_type": "stream",
          "name": "stdout",
          "text": [
            "Found 106 images belonging to 2 classes.\n"
          ]
        }
      ]
    },
    {
      "cell_type": "code",
      "source": [
        "#predict the test data\n",
        "predictions = model.predict(test_data)\n",
        "print(predictions)"
      ],
      "metadata": {
        "colab": {
          "base_uri": "https://localhost:8080/"
        },
        "id": "HfyGunSUiLYV",
        "outputId": "f2a5bb37-21c4-43af-e800-062becbc1d62"
      },
      "execution_count": 12,
      "outputs": [
        {
          "output_type": "stream",
          "name": "stdout",
          "text": [
            "4/4 [==============================] - 55s 18s/step\n",
            "[[9.99999881e-01]\n",
            " [3.07413579e-08]\n",
            " [9.99999285e-01]\n",
            " [1.00000000e+00]\n",
            " [2.07926030e-03]\n",
            " [6.13384368e-03]\n",
            " [5.40090241e-07]\n",
            " [1.00000000e+00]\n",
            " [9.99999881e-01]\n",
            " [2.72311755e-08]\n",
            " [1.05175939e-08]\n",
            " [7.04463688e-04]\n",
            " [6.53619566e-07]\n",
            " [1.00000000e+00]\n",
            " [9.70209539e-01]\n",
            " [9.61185992e-02]\n",
            " [1.24827102e-06]\n",
            " [2.49281729e-04]\n",
            " [9.98378932e-01]\n",
            " [8.54758680e-01]\n",
            " [7.01338460e-04]\n",
            " [4.04912814e-09]\n",
            " [9.66907024e-01]\n",
            " [9.26968217e-01]\n",
            " [9.99999821e-01]\n",
            " [1.66298114e-02]\n",
            " [6.74313654e-08]\n",
            " [9.55371380e-01]\n",
            " [1.56837260e-12]\n",
            " [4.08453792e-02]\n",
            " [4.51595247e-01]\n",
            " [2.79476750e-04]\n",
            " [8.51296703e-04]\n",
            " [9.99965489e-01]\n",
            " [2.71785595e-02]\n",
            " [9.99999225e-01]\n",
            " [2.50892622e-08]\n",
            " [2.71057543e-05]\n",
            " [3.86005377e-05]\n",
            " [1.46400021e-06]\n",
            " [9.99989986e-01]\n",
            " [1.00000000e+00]\n",
            " [9.99999642e-01]\n",
            " [1.00000000e+00]\n",
            " [1.47242026e-05]\n",
            " [1.00000000e+00]\n",
            " [2.80155330e-08]\n",
            " [1.28909815e-02]\n",
            " [3.03734355e-02]\n",
            " [9.90754247e-01]\n",
            " [1.00000000e+00]\n",
            " [1.94962008e-03]\n",
            " [2.63056951e-04]\n",
            " [8.54714381e-05]\n",
            " [5.99730981e-07]\n",
            " [7.74225406e-03]\n",
            " [3.18327919e-03]\n",
            " [2.06066854e-03]\n",
            " [9.77931142e-01]\n",
            " [7.89397862e-03]\n",
            " [3.45572388e-08]\n",
            " [1.00000000e+00]\n",
            " [1.30125602e-06]\n",
            " [9.99999702e-01]\n",
            " [1.00000000e+00]\n",
            " [9.04624642e-07]\n",
            " [4.88491992e-07]\n",
            " [2.79235405e-06]\n",
            " [2.74145191e-06]\n",
            " [2.62727216e-03]\n",
            " [1.07419760e-06]\n",
            " [1.00000000e+00]\n",
            " [1.00000000e+00]\n",
            " [2.96285198e-05]\n",
            " [5.33451434e-08]\n",
            " [8.59624052e-08]\n",
            " [9.99999881e-01]\n",
            " [9.91594374e-01]\n",
            " [9.99598444e-01]\n",
            " [1.20651260e-01]\n",
            " [6.37421999e-06]\n",
            " [1.00000000e+00]\n",
            " [2.62111062e-05]\n",
            " [6.41505778e-07]\n",
            " [9.99996364e-01]\n",
            " [9.99999583e-01]\n",
            " [1.30125602e-06]\n",
            " [9.99997020e-01]\n",
            " [5.34757191e-06]\n",
            " [9.86577213e-01]\n",
            " [9.83821154e-01]\n",
            " [1.00000000e+00]\n",
            " [9.97991681e-01]\n",
            " [5.40090241e-07]\n",
            " [5.33451434e-08]\n",
            " [1.00000000e+00]\n",
            " [9.99996722e-01]\n",
            " [9.21801627e-01]\n",
            " [1.00000000e+00]\n",
            " [4.04045968e-05]\n",
            " [1.00000000e+00]\n",
            " [1.00000000e+00]\n",
            " [4.77388792e-04]\n",
            " [9.99997079e-01]\n",
            " [1.97648274e-06]\n",
            " [2.87491697e-09]]\n"
          ]
        }
      ]
    },
    {
      "cell_type": "code",
      "source": [
        "len(predictions)"
      ],
      "metadata": {
        "colab": {
          "base_uri": "https://localhost:8080/"
        },
        "id": "Aawk2V_8isBa",
        "outputId": "b4225bc8-502f-453c-9a76-602e705b7f71"
      },
      "execution_count": 13,
      "outputs": [
        {
          "output_type": "execute_result",
          "data": {
            "text/plain": [
              "106"
            ]
          },
          "metadata": {},
          "execution_count": 13
        }
      ]
    },
    {
      "cell_type": "code",
      "source": [
        "from sklearn.metrics import confusion_matrix, classification_report\n",
        "\n",
        "# Assuming you have ground truth labels (true_labels) and predicted labels (predictions)\n",
        "true_labels = test_data.classes\n",
        "predicted_labels = (predictions > 0.5).astype(int)  # Adjust the threshold as needed\n",
        "\n",
        "# Calculate confusion matrix\n",
        "cm = confusion_matrix(true_labels, predicted_labels)\n",
        "\n",
        "# Print confusion matrix\n",
        "print(\"Confusion Matrix:\")\n",
        "print(cm)\n",
        "\n",
        "# Print classification report\n",
        "print(\"Classification Report:\")\n",
        "print(classification_report(true_labels, predicted_labels))"
      ],
      "metadata": {
        "id": "j1uSUyMuixjw",
        "outputId": "d0fae82b-b62c-4d66-ff51-74b2b7f4e39f",
        "colab": {
          "base_uri": "https://localhost:8080/"
        }
      },
      "execution_count": 14,
      "outputs": [
        {
          "output_type": "stream",
          "name": "stdout",
          "text": [
            "Confusion Matrix:\n",
            "[[36 23]\n",
            " [24 23]]\n",
            "Classification Report:\n",
            "              precision    recall  f1-score   support\n",
            "\n",
            "           0       0.60      0.61      0.61        59\n",
            "           1       0.50      0.49      0.49        47\n",
            "\n",
            "    accuracy                           0.56       106\n",
            "   macro avg       0.55      0.55      0.55       106\n",
            "weighted avg       0.56      0.56      0.56       106\n",
            "\n"
          ]
        }
      ]
    }
  ]
}